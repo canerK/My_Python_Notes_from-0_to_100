{
 "cells": [
  {
   "cell_type": "markdown",
   "metadata": {},
   "source": [
    "# 8. Structured Data\n",
    "\n",
    "Python provides a number of collection types useful for creating structured data. \n",
    "\n",
    "    1- The list is a basic sequence type (see JN-4).\n",
    "        X=[1,2,3,4,5] \n",
    "        It's created with a pair of square brackets and the values separated by commas. \n",
    "        The list is mutable, which means that you may add, delete, and change values later by calling e.g. X[0]=5. \n",
    "        \n",
    "     2- A tuple is immutable which means you can not change the values once it's been created.\n",
    "        X=(1,2,3,4,5)\n",
    "        A tuple is created using parentheses.\n",
    "\n",
    "     3- A dictionary is a sequence of key-value pairs. X={\"one\":1,\"two\":2,\"three\":3,\"four\":4,\"five\":5}\n",
    "         In other languages, this may be called an associative array or e.g. in Java a hashed array. \n",
    "         A dictionary is created using curly brackets. A set is an unordered list of unique values. \n",
    "         It's useful for finding and operating upon unique values within a sequence. \n",
    "         A set is indicated with curly brackets. Any of these collection types may contain any object or type.\n",
    "\n",
    "# 8.1 List\n",
    "\n",
    "# 8.1.1 Example List\n"
   ]
  },
  {
   "cell_type": "code",
   "execution_count": 1,
   "metadata": {},
   "outputs": [
    {
     "name": "stdout",
     "output_type": "stream",
     "text": [
      "\n",
      " index of wood element 2\n",
      "rock - sand - wood - glass - \n",
      " pop() function removes the last element\n",
      "rock - sand - wood - \n",
      " append() function adds a new element to the end of  the list\n",
      "rock - sand - wood - tree - \n",
      " insert() element to a certain place in the list\n",
      "fox - rock - sand - wood - tree - \n",
      " pop(1) removes the second element of the list\n",
      "fox - sand - wood - tree - \n",
      " Let's add new elements with append() function again\n",
      "fox - sand - wood - tree - forest, river, mountain, sea - \n",
      " remove item by value with remove function\n",
      "fox - wood - tree - forest, river, mountain, sea - \n",
      " del statement also can be used to delete elements by index\n",
      "wood - tree - forest, river, mountain, sea - \n",
      " del statement can delete the elements in a slice\n",
      "wood - \n",
      " Let's add new elements with append() function again\n",
      "wood - iceberg, desert, sky, human, animal - \n",
      " del statement can delete the elements in a slice with an increment\n",
      "wood - \n",
      " Let's add new elements with append() function again\n",
      "wood - iceberg, desert, sky, human, animal - \n",
      " join helps to put commas between the list items by using join(\n",
      "wood,iceberg, desert, sky, human, animal\n",
      "wood - iceberg, desert, sky, human, animal - \n",
      " len() retrieves the length of the list\n",
      "length of nature : 2\n",
      "wood - iceberg, desert, sky, human, animal - "
     ]
    }
   ],
   "source": [
    "# 8.1.1 Example List\n",
    "\n",
    "def main():\n",
    "    nature=[\"rock\",\"sand\",\"wood\",\"glass\"]\n",
    "    \n",
    "    #access to index of element\n",
    "    i=nature.index(\"wood\")\n",
    "    print(\"\\n index of wood element\",i)\n",
    "    print_list(nature)\n",
    "    \n",
    "    #remove value at the end of the list\n",
    "    print(\"\\n pop() function removes the last element\")\n",
    "    nature.pop()\n",
    "    print_list(nature)\n",
    "    \n",
    "    #extend the list by append function\n",
    "    nature.append(\"tree\")\n",
    "    print(\"\\n append() function adds a new element to the end of  the list\")\n",
    "    print_list(nature)\n",
    "    \n",
    "    #insert element to a certain place in the list by insert function\n",
    "    nature.insert(0,\"fox\")\n",
    "    print(\"\\n insert() element to a certain place in the list\")\n",
    "    print_list(nature)\n",
    "    \n",
    "    #you can also use pop functino to remove a particular index \n",
    "    print(\"\\n pop(1) removes the second element of the list\")\n",
    "    nature.pop(1)\n",
    "    print_list(nature)\n",
    "    \n",
    "    # Let's extend the list by append function\n",
    "    nature.append(\"forest, river, mountain, sea\")\n",
    "    print(\"\\n Let's add new elements with append() function again\")\n",
    "    print_list(nature)\n",
    "\n",
    "    #del statement also can be used to delete elements by index\n",
    "    print(\"\\n remove item by value with remove function\")\n",
    "    nature.remove(\"sand\")\n",
    "    print_list(nature)\n",
    "    \n",
    "    #del statement also can be used to delete elements by index\n",
    "    print(\"\\n del statement also can be used to delete elements by index\")\n",
    "    del nature[0]\n",
    "    print_list(nature)\n",
    "    \n",
    "    #del statement can delete the elements in a slice\n",
    "    print(\"\\n del statement can delete the elements in a slice\")\n",
    "    del nature[1:3]\n",
    "    print_list(nature)\n",
    "    \n",
    "    # Let's extend the list by append function\n",
    "    nature.append(\"iceberg, desert, sky, human, animal\")\n",
    "    print(\"\\n Let's add new elements with append() function again\")\n",
    "    print_list(nature)\n",
    "    \n",
    "    #del statement can delete the elements in a slice with an increment\n",
    "    print(\"\\n del statement can delete the elements in a slice with an increment\")\n",
    "    del nature[1:3:2]\n",
    "    print_list(nature)\n",
    "    \n",
    "    # Let's extend the list by append function\n",
    "    nature.append(\"iceberg, desert, sky, human, animal\")\n",
    "    print(\"\\n Let's add new elements with append() function again\")\n",
    "    print_list(nature)\n",
    "    \n",
    "    #we can have commas between the list items by using join()\n",
    "    print(\"\\n join helps to put commas between the list items by using join(\")\n",
    "    print(\",\".join(nature))\n",
    "    print_list(nature) \n",
    "    \n",
    "    #we can use len function \n",
    "    print(\"\\n len() retrieves the length of the list\")\n",
    "    print(\"length of nature :\",len(nature))\n",
    "    print_list(nature) \n",
    "\n",
    "def print_list(lis):\n",
    "\n",
    "        for elem in lis: print(elem, end=\" - \",flush=True)\n",
    "\n",
    "if __name__ == \"__main__\": main()\n",
    "          "
   ]
  },
  {
   "cell_type": "markdown",
   "metadata": {},
   "source": [
    "         A set is indicated with curly brackets. Any of these collection types may contain any object or type.\n",
    "\n",
    "# 8.2 Tuple immutable\n",
    "\n",
    "# 8.1.1 Example tuple\n",
    "The example below will give error since even though a tuple works exactly like a list however that it's immutable, and it's indicated by parentheses."
   ]
  },
  {
   "cell_type": "code",
   "execution_count": 2,
   "metadata": {},
   "outputs": [
    {
     "name": "stdout",
     "output_type": "stream",
     "text": [
      "\n",
      " index of wood element 2\n",
      "rock - sand - wood - glass - \n",
      " del statement also can be used to delete elements by index\n"
     ]
    },
    {
     "ename": "TypeError",
     "evalue": "'tuple' object doesn't support item deletion",
     "output_type": "error",
     "traceback": [
      "\u001b[0;31m---------------------------------------------------------------------------\u001b[0m",
      "\u001b[0;31mTypeError\u001b[0m                                 Traceback (most recent call last)",
      "\u001b[0;32m<ipython-input-2-0448de16fcba>\u001b[0m in \u001b[0;36m<module>\u001b[0;34m\u001b[0m\n\u001b[1;32m     18\u001b[0m         \u001b[0;32mfor\u001b[0m \u001b[0melem\u001b[0m \u001b[0;32min\u001b[0m \u001b[0mlis\u001b[0m\u001b[0;34m:\u001b[0m \u001b[0mprint\u001b[0m\u001b[0;34m(\u001b[0m\u001b[0melem\u001b[0m\u001b[0;34m,\u001b[0m \u001b[0mend\u001b[0m\u001b[0;34m=\u001b[0m\u001b[0;34m\" - \"\u001b[0m\u001b[0;34m,\u001b[0m\u001b[0mflush\u001b[0m\u001b[0;34m=\u001b[0m\u001b[0;32mTrue\u001b[0m\u001b[0;34m)\u001b[0m\u001b[0;34m\u001b[0m\u001b[0m\n\u001b[1;32m     19\u001b[0m \u001b[0;34m\u001b[0m\u001b[0m\n\u001b[0;32m---> 20\u001b[0;31m \u001b[0;32mif\u001b[0m \u001b[0m__name__\u001b[0m \u001b[0;34m==\u001b[0m \u001b[0;34m\"__main__\"\u001b[0m\u001b[0;34m:\u001b[0m \u001b[0mmain\u001b[0m\u001b[0;34m(\u001b[0m\u001b[0;34m)\u001b[0m\u001b[0;34m\u001b[0m\u001b[0m\n\u001b[0m\u001b[1;32m     21\u001b[0m \u001b[0;34m\u001b[0m\u001b[0m\n",
      "\u001b[0;32m<ipython-input-2-0448de16fcba>\u001b[0m in \u001b[0;36mmain\u001b[0;34m()\u001b[0m\n\u001b[1;32m     11\u001b[0m     \u001b[0;31m#del statement also can be used to delete elements by index\u001b[0m\u001b[0;34m\u001b[0m\u001b[0;34m\u001b[0m\u001b[0m\n\u001b[1;32m     12\u001b[0m     \u001b[0mprint\u001b[0m\u001b[0;34m(\u001b[0m\u001b[0;34m\"\\n del statement also can be used to delete elements by index\"\u001b[0m\u001b[0;34m)\u001b[0m\u001b[0;34m\u001b[0m\u001b[0m\n\u001b[0;32m---> 13\u001b[0;31m     \u001b[0;32mdel\u001b[0m \u001b[0mnature\u001b[0m\u001b[0;34m[\u001b[0m\u001b[0;36m0\u001b[0m\u001b[0;34m]\u001b[0m\u001b[0;34m\u001b[0m\u001b[0m\n\u001b[0m\u001b[1;32m     14\u001b[0m     \u001b[0mprint_list\u001b[0m\u001b[0;34m(\u001b[0m\u001b[0mnature\u001b[0m\u001b[0;34m)\u001b[0m\u001b[0;34m\u001b[0m\u001b[0m\n\u001b[1;32m     15\u001b[0m \u001b[0;34m\u001b[0m\u001b[0m\n",
      "\u001b[0;31mTypeError\u001b[0m: 'tuple' object doesn't support item deletion"
     ]
    }
   ],
   "source": [
    "# 8.1.1 Example List\n",
    "\n",
    "def main():\n",
    "    nature=(\"rock\",\"sand\",\"wood\",\"glass\")\n",
    "    \n",
    "    #access to index of element\n",
    "    i=nature.index(\"wood\")\n",
    "    print(\"\\n index of wood element\",i)\n",
    "    print_list(nature)\n",
    "    \n",
    "    #del statement also can be used to delete elements by index\n",
    "    print(\"\\n del statement also can be used to delete elements by index\")\n",
    "    del nature[0]\n",
    "    print_list(nature)\n",
    "    \n",
    "def print_list(lis):\n",
    "\n",
    "        for elem in lis: print(elem, end=\" - \",flush=True)\n",
    "\n",
    "if __name__ == \"__main__\": main()\n",
    "          "
   ]
  },
  {
   "cell_type": "markdown",
   "metadata": {},
   "source": [
    "         A set is indicated with curly brackets. Any of these collection types may contain any object or type.\n",
    "\n",
    "# 8.3 Dictionaries\n",
    "\n",
    "# 8.1.1 Example Creating Dictionaries"
   ]
  },
  {
   "cell_type": "code",
   "execution_count": 3,
   "metadata": {},
   "outputs": [
    {
     "name": "stdout",
     "output_type": "stream",
     "text": [
      " key = one:   value = o\n",
      " key = two:   value = t\n",
      " key = three:   value = t\n",
      " key = four:   value = f\n",
      " key = five:   value = f\n",
      " key = six:   value = s\n"
     ]
    }
   ],
   "source": [
    "# 8.1.1 Example Creating Dictionaries\n",
    "def main ():\n",
    "    numbers = {\"one\":1,\"two\":2,\"three\":3,\"four\":4,\"five\":5,\"six\":6}\n",
    "    print_dic(numbers)\n",
    "    \n",
    "def print_dic(num):\n",
    "    for d in num:\n",
    "        print(f\" key = {d}:   value = {d[0]}\")\n",
    "\n",
    "if __name__ == \"__main__\" : main()"
   ]
  },
  {
   "cell_type": "markdown",
   "metadata": {},
   "source": [
    "## 8.1.1 Example Creating Dictionaries with dict() constructer"
   ]
  },
  {
   "cell_type": "code",
   "execution_count": 4,
   "metadata": {},
   "outputs": [
    {
     "name": "stdout",
     "output_type": "stream",
     "text": [
      " key = one:   value = o\n",
      " key = two:   value = t\n",
      " key = three:   value = t\n",
      " key = four:   value = f\n",
      " key = five:   value = f\n",
      " key = six:   value = s\n"
     ]
    }
   ],
   "source": [
    "# 8.1.2 Example Creating Dictionaries\n",
    "\n",
    "# 8.1.1 Example Creating Dictionaries\n",
    "def main ():\n",
    "    numbers = dict (one=1,two=2,three=3,four=4,five=5,six=6)\n",
    "    print_dic(numbers)\n",
    "    \n",
    "def print_dic(num):\n",
    "    for d in num: print(f\" key = {d}:   value = {d[0]}\")\n",
    "\n",
    "if __name__ == \"__main__\" : main()"
   ]
  },
  {
   "cell_type": "markdown",
   "metadata": {},
   "source": [
    "## 8.1.2 Example Accessing keys-values of Dictionaries items()"
   ]
  },
  {
   "cell_type": "code",
   "execution_count": 5,
   "metadata": {},
   "outputs": [
    {
     "name": "stdout",
     "output_type": "stream",
     "text": [
      "key = one:   value = 1\n",
      "key = two:   value = 2\n",
      "key = three:   value = 3\n",
      "key = four:   value = 4\n",
      "key = five:   value = 5\n",
      "key = six:   value = 6\n"
     ]
    }
   ],
   "source": [
    "# 8.1.2 Example accesing key and values via items()\n",
    "\n",
    "def main ():\n",
    "    numbers = dict (one=1,two=2,three=3,four=4,five=5,six=6)\n",
    "    print_dic(numbers)\n",
    "    \n",
    "def print_dic(num):\n",
    "    for k,v in num.items(): print(f\"key = {k}:   value = {v}\")\n",
    "\n",
    "if __name__ == \"__main__\" : main()"
   ]
  },
  {
   "cell_type": "markdown",
   "metadata": {},
   "source": [
    "## 8.1.3 Example Adding new element (keys-values) dic[\"newelement\"]=\" New Element\""
   ]
  },
  {
   "cell_type": "code",
   "execution_count": 6,
   "metadata": {},
   "outputs": [
    {
     "name": "stdout",
     "output_type": "stream",
     "text": [
      "key = one:   value = 1\n",
      "key = two:   value = 2\n",
      "key = three:   value = 3\n",
      "key = four:   value = 4\n",
      "key = five:   value = 5\n",
      "key = six:   value = 6\n",
      "key = one:   value = 1\n",
      "key = two:   value = 2\n",
      "key = three:   value = 3\n",
      "key = four:   value = 4\n",
      "key = five:   value = 5\n",
      "key = six:   value = 6\n",
      "key = newelement:   value = New Element\n"
     ]
    }
   ],
   "source": [
    "# 8.1.3 Example adding a new element into the dicts\n",
    "\n",
    "def main ():\n",
    "    numbers = dict (one=1,two=2,three=3,four=4,five=5,six=6)\n",
    "    print_dic(numbers)\n",
    "    numbers[\"newelement\"]=\"New Element\"\n",
    "    print_dic(numbers)\n",
    "    \n",
    "def print_dic(num):\n",
    "    for k,v in num.items(): print(f\"key = {k}:   value = {v}\")\n",
    "\n",
    "if __name__ == \"__main__\" : main()"
   ]
  },
  {
   "cell_type": "markdown",
   "metadata": {},
   "source": [
    "# 8.1.4 Example Searching Element in Dictionaries"
   ]
  },
  {
   "cell_type": "code",
   "execution_count": 7,
   "metadata": {},
   "outputs": [
    {
     "name": "stdout",
     "output_type": "stream",
     "text": [
      "key = one:   value = 1\n",
      "key = two:   value = 2\n",
      "key = three:   value = 3\n",
      "key = four:   value = 4\n",
      "key = five:   value = 5\n",
      "key = six:   value = 6\n",
      "here it is\n"
     ]
    }
   ],
   "source": [
    "# 8.1.4 Example searching an element in dicts\n",
    "\n",
    "def main ():\n",
    "    numbers = dict (one=1,two=2,three=3,four=4,five=5,six=6)\n",
    "    print_dic(numbers)\n",
    "    \n",
    "    print (\"here it is\" if \"one\" in numbers else \"nope\")\n",
    "    \n",
    "def print_dic(num):\n",
    "    for k,v in num.items(): print(f\"key = {k}:   value = {v}\")\n",
    "\n",
    "if __name__ == \"__main__\" : main()"
   ]
  },
  {
   "cell_type": "markdown",
   "metadata": {},
   "source": [
    "# 8.1.4 Example Access a Dictionary Element with get(element[\"key\"])"
   ]
  },
  {
   "cell_type": "code",
   "execution_count": 8,
   "metadata": {},
   "outputs": [
    {
     "name": "stdout",
     "output_type": "stream",
     "text": [
      "key = one:   value = 1\n",
      "key = two:   value = 2\n",
      "key = three:   value = 3\n",
      "key = four:   value = 4\n",
      "key = five:   value = 5\n",
      "key = six:   value = 6\n",
      "here it is\n"
     ]
    }
   ],
   "source": [
    "# 8.1.4 Example Searching Element in Dictionaries\n",
    "# 8.1.4 Example searching an element in dicts\n",
    "\n",
    "def main ():\n",
    "    numbers = dict (one=1,two=2,three=3,four=4,five=5,six=6)\n",
    "    print_dic(numbers)\n",
    "    \n",
    "    print (\"here it is\" if \"one\" in numbers else \"nope\")\n",
    "    \n",
    "def print_dic(num):\n",
    "    for k,v in num.items(): print(f\"key = {k}:   value = {v}\")\n",
    "\n",
    "if __name__ == \"__main__\" : main()"
   ]
  },
  {
   "cell_type": "markdown",
   "metadata": {},
   "source": [
    "# 8.4 Sets\n",
    "\n",
    "Set is an other Python datatype which is like a list that does not allow duplicate elements. \n",
    "\n",
    "In a set is actually an unordered list of the unique characters in each string.\n",
    "\n",
    "# 8.4.1 Example Creating Sets"
   ]
  },
  {
   "cell_type": "code",
   "execution_count": 33,
   "metadata": {},
   "outputs": [
    {
     "name": "stdout",
     "output_type": "stream",
     "text": [
      "{'s', 'i', 't', 'l', '1', 'm', 'y', ' ', 'h'}\n",
      "{'s', 'i', 't', 'l', 'm', 'y', '2', ' ', 'h'}\n"
     ]
    }
   ],
   "source": [
    "def main ():\n",
    "    input_string1 = set(\"this is my list1\")\n",
    "    input_string2 = set(\"this is my list2\")\n",
    "\n",
    "    print_mylist(input_string1,input_string2)\n",
    "\n",
    "def print_mylist (*kwargs):\n",
    "    for s in kwargs:\n",
    "        print(f\"{s}\")\n",
    "        \n",
    "if __name__ == \"__main__\": main()"
   ]
  },
  {
   "cell_type": "markdown",
   "metadata": {},
   "source": [
    "# 8.4.2 Example ordering sets: sorted()   \n",
    "If you want an ordered list, you'll use a list or a string. So for example, I can check for the members that are in set a but not in set b by using the minus operator."
   ]
  },
  {
   "cell_type": "code",
   "execution_count": 36,
   "metadata": {},
   "outputs": [
    {
     "name": "stdout",
     "output_type": "stream",
     "text": [
      "sorted :[' ', '1', 'h', 'i', 'l', 'm', 's', 't', 'y']\n",
      "sorted :[' ', '2', 'h', 'i', 'l', 'm', 's', 't', 'y']\n"
     ]
    }
   ],
   "source": [
    "def main ():\n",
    "    input_string1 = set(\"this is my list1\")\n",
    "    input_string2 = set(\"this is my list2\")\n",
    "\n",
    "    print_mylist(input_string1,input_string2)\n",
    "\n",
    "def print_mylist (*kwargs):\n",
    "    for s in kwargs:\n",
    "        s=sorted(s)\n",
    "        print(f\"sorted :{s}\")\n",
    "        \n",
    "if __name__ == \"__main__\": main()"
   ]
  },
  {
   "cell_type": "markdown",
   "metadata": {},
   "source": [
    "# 8.4.3 Example Sets \"-\"  minus operator\n",
    "\n",
    "E.g. to identify and the print the elements which are in set1 and not in set 2 "
   ]
  },
  {
   "cell_type": "code",
   "execution_count": 37,
   "metadata": {},
   "outputs": [
    {
     "name": "stdout",
     "output_type": "stream",
     "text": [
      "sorted :['1']\n"
     ]
    }
   ],
   "source": [
    "def main ():\n",
    "    input_string1 = set(\"this is my list1\")\n",
    "    input_string2 = set(\"this is my list2\")\n",
    "    difference = input_string1-input_string2\n",
    "    print_mylist(difference)\n",
    "\n",
    "def print_mylist (*kwargs):\n",
    "    for s in kwargs:\n",
    "        s=sorted(s)\n",
    "        print(f\"sorted :{s}\")\n",
    "        \n",
    "if __name__ == \"__main__\": main()"
   ]
  },
  {
   "cell_type": "markdown",
   "metadata": {},
   "source": [
    "# 8.4.3 Example Sets \"|\" or operator\n",
    "E.g. to identify and the print the elements which are in both set1 and  in set 2 "
   ]
  },
  {
   "cell_type": "code",
   "execution_count": 38,
   "metadata": {},
   "outputs": [
    {
     "name": "stdout",
     "output_type": "stream",
     "text": [
      "sorted :[' ', '1', '2', 'h', 'i', 'l', 'm', 's', 't', 'y']\n"
     ]
    }
   ],
   "source": [
    "def main ():\n",
    "    input_string1 = set(\"this is my list1\")\n",
    "    input_string2 = set(\"this is my list2\")\n",
    "    difference = input_string1|input_string2\n",
    "    print_mylist(difference)\n",
    "\n",
    "def print_mylist (*kwargs):\n",
    "    for s in kwargs:\n",
    "        s=sorted(s)\n",
    "        print(f\"sorted :{s}\")\n",
    "        \n",
    "if __name__ == \"__main__\": main()"
   ]
  },
  {
   "cell_type": "markdown",
   "metadata": {},
   "source": [
    "# 8.4.3 Example Sets \"^\" exclusive or operator\n",
    "E.g. to identify and the print the elements which are in set1 and in set 2 but not in both"
   ]
  },
  {
   "cell_type": "code",
   "execution_count": 39,
   "metadata": {},
   "outputs": [
    {
     "name": "stdout",
     "output_type": "stream",
     "text": [
      "sorted :['1', '2']\n"
     ]
    }
   ],
   "source": [
    "def main ():\n",
    "    input_string1 = set(\"this is my list1\")\n",
    "    input_string2 = set(\"this is my list2\")\n",
    "    difference = input_string1^input_string2\n",
    "    print_mylist(difference)\n",
    "\n",
    "def print_mylist (*kwargs):\n",
    "    for s in kwargs:\n",
    "        s=sorted(s)\n",
    "        print(f\"sorted :{s}\")\n",
    "        \n",
    "if __name__ == \"__main__\": main()"
   ]
  },
  {
   "cell_type": "markdown",
   "metadata": {},
   "source": [
    "# 8.4.3 Example Sets \"&\"  operator \n",
    "intersactios E.g. to identify and the print the elements which are only in set1 and in set 2 "
   ]
  },
  {
   "cell_type": "code",
   "execution_count": 41,
   "metadata": {},
   "outputs": [
    {
     "name": "stdout",
     "output_type": "stream",
     "text": [
      "sorted :[' ', 'h', 'i', 'l', 'm', 's', 't', 'y']\n"
     ]
    }
   ],
   "source": [
    "def main ():\n",
    "    input_string1 = set(\"this is my list1\")\n",
    "    input_string2 = set(\"this is my list2\")\n",
    "    difference = input_string1&input_string2\n",
    "    print_mylist(difference)\n",
    "\n",
    "def print_mylist (*kwargs):\n",
    "    for s in kwargs:\n",
    "        s=sorted(s)\n",
    "        print(f\"sorted :{s}\")\n",
    "        \n",
    "if __name__ == \"__main__\": main()"
   ]
  },
  {
   "cell_type": "markdown",
   "metadata": {},
   "source": [
    "# 8.5 List Comprehension\n"
   ]
  },
  {
   "cell_type": "code",
   "execution_count": 71,
   "metadata": {},
   "outputs": [
    {
     "name": "stdout",
     "output_type": "stream",
     "text": [
      "sorted seq0 : [0, 1, 2, 3, 4, 5, 6, 7, 8, 9, 10]\n",
      "sorted seq1 : [0, 2, 4, 6, 8, 10, 12, 14, 16, 18, 20]\n",
      "sorted seq2 : [3, 4, 5, 6, 7, 8, 9, 10]\n",
      "sorted seq3 : [1, 2, 4, 5, 7, 8, 10]\n",
      "tuple =  [(0, 0), (1, 1), (2, 4), (3, 9), (4, 16), (5, 25), (6, 36), (7, 49), (8, 64), (9, 81), (10, 100)]\n",
      "dictionary =  {0: 0, 1: 1, 2: 4, 3: 9, 4: 16, 5: 25, 6: 36, 7: 49, 8: 64, 9: 81, 10: 100}\n",
      "set =  {'m'}\n"
     ]
    }
   ],
   "source": [
    "def main ():\n",
    "    \n",
    "    seq = range(11)\n",
    "    seq2 = [x*2 for x in seq ]\n",
    "    seq3 = [x for x in seq if x//3]   # elements devidable by 3\n",
    "    seq4 = [x for x in seq if x%3!=0] # elements not devidable by 3\n",
    "    print_mylist (seq,seq2,seq3,seq4)\n",
    "\n",
    "    #creat a tuple\n",
    "    tup1 = [(x,x**2) for x in seq]\n",
    "    print(\"tuple = \",tup1)\n",
    "    \n",
    "    #creat a tuple\n",
    "    dictionary1 = {x:x**2 for x in seq}\n",
    "    print(\"dictionary = \",dictionary1)\n",
    "    \n",
    "        \n",
    "    #creat a set\n",
    "    set1 = {x for x in \"this is my set\" if x not in \"this is your set\"}\n",
    "    print(\"set = \",set1)\n",
    "    \n",
    "def print_mytuple (*kwargs):\n",
    "    t=0\n",
    "    d=0\n",
    "    for s in kwargs:\n",
    "        s=sorted(s)\n",
    "        print(f\"sorted seq{l} : {s}\")\n",
    "\n",
    "  \n",
    "    \n",
    "    \n",
    "if __name__ == \"__main__\": main()"
   ]
  },
  {
   "cell_type": "markdown",
   "metadata": {},
   "source": [
    "# 8.6 Mixed Data Structures \n",
    "\n",
    "Recall that in Python everything is an object and variables store references to objects. Also , the objects may contain references to other objects including your own defined classes and objects.\n",
    "\n",
    "This approach allows us to store anything in a data structure. \n",
    "\n",
    "\n",
    "\n"
   ]
  },
  {
   "cell_type": "code",
   "execution_count": 78,
   "metadata": {},
   "outputs": [
    {
     "name": "stdout",
     "output_type": "stream",
     "text": [
      "[ [ 1 'two' 3 { 4: 'four' } 5 ] \n",
      "[ 0 1 2 3 4 5 6 7 8 9 10 ] \n",
      "{ ' ' '!' \"'\" 'I' 'S' 'a' 'b' 'd' 'e' 'i' 'l' 'm' 'n' 'p' 'r' 's' 't' 'u' } \n",
      "{ one: [ 0 1 2 3 4 5 6 7 8 9 10 ] two: [ 1 'two' 3 { 4: 'four' } 5 ] three: { ' ' '!' \"'\" 'I' 'S' 'a' 'b' 'd' 'e' 'i' 'l' 'm' 'n' 'p' 'r' 's' 't' 'u' } } \n",
      "( 'one' 'two' Nada 'four' 'five' ) \n",
      "] \n"
     ]
    }
   ],
   "source": [
    "#!/usr/bin/env python3\n",
    "# Copyright 2009-2017 BHG http://bw.org/\n",
    "\n",
    "# globals\n",
    "dlevel = 0 # manage nesting level\n",
    "\n",
    "def main():\n",
    "    ran = range(11)\n",
    "    lis = [ 1, 'two', 3, {'4': 'four' }, 5 ]\n",
    "    tup = ( 'one', 'two', None, 'four', 'five' )\n",
    "    seet = set(\"It's a bird! It's a plane! It's Superman!\")\n",
    "    dic = dict( one = ran, two = lis, three = seet )\n",
    "    mixed = [ lis, ran, seet, dic, tup ]\n",
    "    disp(mixed)\n",
    "\n",
    "def disp(*kargs):\n",
    "    \n",
    "    global dlevel\n",
    "    \n",
    "    for k in kargs:\n",
    "        \n",
    "        dlevel += 1\n",
    "        if   isinstance(k, list):  print_list(k)\n",
    "        elif isinstance(k, range): print_list(k)\n",
    "        elif isinstance(k, tuple): print_tuple(k)\n",
    "        elif isinstance(k, set):   print_set(k)\n",
    "        elif isinstance(k, dict):  print_dict(k)\n",
    "        elif k is None: print('Nada', end=' ', flush=True)\n",
    "        else: print(repr(k), end=' ', flush=True)\n",
    "        dlevel -= 1\n",
    "\n",
    "        if dlevel <= 1: print() # newline after outer\n",
    "\n",
    "def print_list(d_structure_in):\n",
    "    print('[', end=' ')\n",
    "    for x in d_structure_in: disp(x)\n",
    "    print(']', end=' ', flush=True)\n",
    "\n",
    "def print_tuple(d_structure_in):\n",
    "    print('(', end=' ')\n",
    "    for x in d_structure_in: disp(x)\n",
    "    print(')', end=' ', flush=True)\n",
    "\n",
    "def print_set(d_structure_in):\n",
    "    print('{', end=' ')\n",
    "    for x in sorted(d_structure_in): disp(x)\n",
    "    print('}', end=' ', flush=True)\n",
    "\n",
    "def print_dict(d_structure_in):\n",
    "    print('{', end=' ')\n",
    "    for k, v in d_structure_in.items():\n",
    "        print(k, end=': ' )\n",
    "        disp(v)\n",
    "    print('}', end=' ', flush=True)\n",
    "\n",
    "if __name__ == '__main__': main()\n"
   ]
  },
  {
   "cell_type": "code",
   "execution_count": null,
   "metadata": {},
   "outputs": [],
   "source": []
  }
 ],
 "metadata": {
  "kernelspec": {
   "display_name": "Python 3",
   "language": "python",
   "name": "python3"
  },
  "language_info": {
   "codemirror_mode": {
    "name": "ipython",
    "version": 3
   },
   "file_extension": ".py",
   "mimetype": "text/x-python",
   "name": "python",
   "nbconvert_exporter": "python",
   "pygments_lexer": "ipython3",
   "version": "3.6.6"
  }
 },
 "nbformat": 4,
 "nbformat_minor": 2
}
