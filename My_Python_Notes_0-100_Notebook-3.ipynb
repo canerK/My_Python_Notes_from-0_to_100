{
 "cells": [
  {
   "cell_type": "markdown",
   "metadata": {},
   "source": [
    "# 5. Data Structures\n",
    "\n",
    "## 5.1. More on Lists\n",
    "The list data type has some more methods. Here are all of the methods of list objects:\n",
    "\n",
    "## 5.1.1 list.append(x)\n",
    "Add an item to the end of the list. Equivalent to a[len(a):] = [x].\n",
    "\n",
    "## 5.1.2 list.extend(iterable)\n",
    "Extend the list by appending all the items from the iterable. \n",
    "Equivalent to a[len(a):] = iterable.\n",
    "\n",
    "## 5.1.3 list.insert(i, x)\n",
    "Insert an item at a given position. The first argument is the index of the element before which to insert, so a.insert(0, x) inserts at the front of the list, and a.insert(len(a), x) is equivalent to a.append(x).\n",
    "\n",
    "## 5.1.4 list.remove(x)\n",
    "Remove the first item from the list whose value is equal to x. It raises a ValueError if there is no such item.\n",
    "\n",
    "## 5.1.5 list.pop([i])\n",
    "Remove the item at the given position in the list, and return it. If no index is specified, a.pop() removes and returns the last item in the list. (The square brackets around the i in the method signature denote that the parameter is optional, not that you should type square brackets at that position. You will see this notation frequently in the Python Library Reference.)\n",
    "\n",
    "## 5.1.6 list.clear()\n",
    "Remove all items from the list. Equivalent to del a[:].\n",
    "\n",
    "## 5.1.7 list.index(x[, start[, end]])\n",
    "Return zero-based index in the list of the first item whose value is equal to x. Raises a ValueError if there is no such item.\n",
    "The start and end are optional arguments interpreted as in the slice notation and are used to limit the search to a particular subsequence of the list. The returned index is computed relative to the beginning of the full sequence rather than the start argument.\n",
    "\n",
    "## 5.1.8 list.count(x)\n",
    "Return the number of times x appears in the list.\n",
    "\n",
    "## 5.1.9 list.sort(key=None, reverse=False)\n",
    "Sort the items of the list in place (the arguments can be used for sort customization, see sorted() for their explanation).\n",
    "\n",
    "## 5.1.10 list.reverse()\n",
    "Reverse the elements of the list in place.\n",
    "\n",
    "## 5.1.11 list.copy()\n",
    "Return a shallow copy of the list. Equivalent to a[:].\n",
    "\n",
    "### Example 5.1.List\n",
    "An example that uses most of the list methods:"
   ]
  },
  {
   "cell_type": "code",
   "execution_count": 14,
   "metadata": {},
   "outputs": [
    {
     "name": "stdout",
     "output_type": "stream",
     "text": [
      "\n",
      " fruits.count('apple') = 2\n",
      "\n",
      " fruits.count('tangerine')) = 0\n",
      "\n",
      " furit.index('banana') = 3\n",
      "\n",
      " furit.index('banana',4) = 6\n",
      "\n",
      " fruits.reverse() = ['banana', 'apple', 'kiwi', 'banana', 'pear', 'apple', '\\n orange']\n",
      "\n",
      " fruits.append('grape') = ['banana', 'apple', 'kiwi', 'banana', 'pear', 'apple', '\\n orange']\n",
      "\n",
      " fruits.sort() = ['\\n orange', 'apple', 'apple', 'banana', 'banana', 'kiwi', 'pear']\n",
      "\n",
      " fruits.pop() = ['\\n orange', 'apple', 'apple', 'banana', 'banana', 'kiwi', 'pear']\n"
     ]
    }
   ],
   "source": [
    "\n",
    "fruits = ['\\n orange', 'apple', 'pear', 'banana', 'kiwi', 'apple', 'banana']\n",
    "\n",
    "fruits.count('apple')\n",
    "print('\\n fruits.count(\\'apple\\') =', fruits.count('apple'))\n",
    "\n",
    "fruits.count('tangerine')\n",
    "print('\\n fruits.count(\\'tangerine\\')) =',fruits.count('tangerine'))\n",
    "\n",
    "fruits.index('banana')\n",
    "print('\\n furit.index(\\'banana\\') =', fruits.index('banana'))\n",
    "\n",
    "fruits.index('banana', 4)  # Find next banana starting a position 4\n",
    "print('\\n furit.index(\\'banana\\',4) =', fruits.index('banana',4))\n",
    "\n",
    "fruits.reverse()\n",
    "print('\\n fruits.reverse() =', fruits)\n",
    "print('\\n fruits.append(\\'grape\\') =', fruits)\n",
    "\n",
    "fruits.sort()\n",
    "print('\\n fruits.sort() =', fruits)\n",
    "print('\\n fruits.pop() =', fruits)"
   ]
  },
  {
   "cell_type": "markdown",
   "metadata": {},
   "source": [
    "## 5.1.1. Using Lists as Stacks (“last-in, first-out”)\n",
    "\n",
    "The list methods make it very easy to use a list as a stack, where the last element added is the first element retrieved (“last-in, first-out”). \n",
    "\n",
    "---To add an item to the top of the stack, use append(). \n",
    "---To retrieve an item from the top of the stack, use pop() without an explicit index. \n",
    "\n",
    "## Example 5.1.1. Lists = Stacks methods\n",
    "For example:"
   ]
  },
  {
   "cell_type": "code",
   "execution_count": 15,
   "metadata": {},
   "outputs": [
    {
     "name": "stdout",
     "output_type": "stream",
     "text": [
      "\n",
      " stack = [3, 4, 5]\n",
      "\n",
      " stack.append(6) = [3, 4, 5, 6]\n",
      "\n",
      " stack.append(7) = [3, 4, 5, 6, 7]\n",
      "\n",
      " stack.pop() = [3, 4, 5, 6]\n",
      "\n",
      " stack.pop() = [3, 4, 5]\n",
      "\n",
      " stack.pop() = [3, 4]\n"
     ]
    }
   ],
   "source": [
    "## 5.1.1. Using Lists as Stacks\n",
    "stack = [3, 4, 5]\n",
    "print('\\n stack =', stack)\n",
    "\n",
    "stack.append(6) #adds the indicated item at the end of list.\n",
    "print('\\n stack.append(6) =', stack)\n",
    "\n",
    "stack.append(7)\n",
    "print('\\n stack.append(7) =', stack)\n",
    "\n",
    "stack.pop() #removes the last item of the list.\n",
    "print('\\n stack.pop() =', stack)\n",
    "\n",
    "stack.pop()\n",
    "print('\\n stack.pop() =', stack)\n",
    "\n",
    "stack.pop()\n",
    "print('\\n stack.pop() =', stack)\n"
   ]
  },
  {
   "cell_type": "markdown",
   "metadata": {},
   "source": [
    "## 5.1.2. Using Lists as Queues (“first-in, first-out”)\n",
    "\n",
    "So far we introduced  pythong list data structure which can be used as stacks where (last-in, last-out) principle is obtained.\n",
    "\n",
    "Another option is that using a list as a queue is another option, where the first element added is the first element retrieved (“first-in, first-out”). Because, recall that python list structure allows us to append and pop elements from the end of list are fast. However, the lists are not efficient for doing inserts or pops at the beginning of a certain list, which is slow. Due to that, all of the other elements in the list have to be shifted by one to be able to insert a new element at the front.\n",
    "\n",
    "\n",
    "To implement a queue, use **collections.deque** which was designed to have fast appends and pops from both ends.\n",
    "\n",
    "\n",
    "## Example 5.1.2. Using Lists as Queues (“first-in, first-out”)"
   ]
  },
  {
   "cell_type": "code",
   "execution_count": 9,
   "metadata": {},
   "outputs": [
    {
     "name": "stdout",
     "output_type": "stream",
     "text": [
      "deque(['Eric', 'John', 'Michael'])\n"
     ]
    }
   ],
   "source": [
    "# Example 5.1.2. Using Lists as Queues (“first-in, first-out”)\n",
    "\n",
    "from collections import deque\n",
    "\n",
    "queue = deque([\"Eric\", \"John\", \"Michael\"])\n",
    "#print('This is a tuple {0}'.format(queue[0,1]))\n",
    "\n",
    "print(queue)"
   ]
  },
  {
   "cell_type": "code",
   "execution_count": 12,
   "metadata": {},
   "outputs": [
    {
     "name": "stdout",
     "output_type": "stream",
     "text": [
      "\n",
      " queue.append(\"Terry\") = deque(['Graham', 'Terry', 'Graham', 'Terry'])\n",
      "\n",
      " queue.append(\"Graham\") = deque(['Graham', 'Terry', 'Graham', 'Terry', 'Graham'])\n",
      "\n",
      " queue.popleft()  = deque(['Terry', 'Graham', 'Terry', 'Graham'])\n",
      "\n",
      " queue.popleft() = deque(['Terry', 'Graham', 'Terry'])\n",
      "\n",
      " queue = deque(['Terry', 'Graham', 'Terry'])\n"
     ]
    }
   ],
   "source": [
    "queue.append(\"Terry\")           # Terry arrives\n",
    "print('\\n queue.append(\"Terry\") =',queue,)\n",
    "\n",
    "queue.append(\"Graham\")          # Graham arrives\n",
    "print('\\n queue.append(\"Graham\") =',queue)\n",
    "\n",
    "queue.popleft()                 # The first to arrive now leaves\n",
    "print('\\n queue.popleft()  =',queue)\n",
    "\n",
    "queue.pop()                 # The second to arrive now leaves\n",
    "print('\\n queue.popleft() =',queue)\n",
    "\n",
    "print(\"\\n queue =\",queue)\n"
   ]
  },
  {
   "cell_type": "markdown",
   "metadata": {},
   "source": [
    "# 5.1.3. List Comprehensions\n",
    "List comprehensions provide a concise way to create lists. \n",
    "Common applications are to make new lists where each element is the result of some operations applied to each member of another sequence or iterable, or to create a subsequence of those elements that satisfy a certain condition.\n",
    "\n",
    "## Example 5.1.3. List Comprehensions\n",
    "\n",
    "For example, assume we want to create a list of squares, like:\n",
    "\n"
   ]
  },
  {
   "cell_type": "code",
   "execution_count": 7,
   "metadata": {},
   "outputs": [
    {
     "name": "stdout",
     "output_type": "stream",
     "text": [
      "squares-1 [0, 1, 4, 9, 16, 25, 36, 49, 64, 81]\n",
      "squares-2 [0, 1, 4, 9, 16, 25, 36, 49, 64, 81]\n"
     ]
    },
    {
     "data": {
      "text/plain": [
       "[(1, 3), (1, 4), (2, 3), (2, 1), (2, 4), (3, 1), (3, 4)]"
      ]
     },
     "execution_count": 7,
     "metadata": {},
     "output_type": "execute_result"
    }
   ],
   "source": [
    "# Example 5.1.3. List Comprehensions\n",
    "\n",
    "squares = []\n",
    "for x in range(10):\n",
    "    squares.append(x**2)\n",
    "\n",
    "squares\n",
    "[0, 1, 4, 9, 16, 25, 36, 49, 64, 81]"
   ]
  },
  {
   "cell_type": "markdown",
   "metadata": {},
   "source": [
    "## Example 5.1.3. List Comprehensions\n",
    "\n",
    "Note that this creates (or overwrites) a variable named x that still exists after the loop completes. We can calculate the list of squares without any side effects using:\n",
    "\n",
    "or, equivalently:\n",
    "\n",
    "which is more concise and readable.\n",
    "\n",
    "A list comprehension consists of brackets containing an expression followed by a for clause, then zero or more for or if clauses. The result will be a new list resulting from evaluating the expression in the context of the for and if clauses which follow it. For example, this listcomp combines the elements of two lists if they are not equal:\n",
    "\n",
    "\n"
   ]
  },
  {
   "cell_type": "code",
   "execution_count": 4,
   "metadata": {},
   "outputs": [
    {
     "ename": "TypeError",
     "evalue": "'tuple' object is not callable",
     "output_type": "error",
     "traceback": [
      "\u001b[0;31m---------------------------------------------------------------------------\u001b[0m",
      "\u001b[0;31mTypeError\u001b[0m                                 Traceback (most recent call last)",
      "\u001b[0;32m<ipython-input-4-b4a096efab65>\u001b[0m in \u001b[0;36m<module>\u001b[0;34m()\u001b[0m\n\u001b[1;32m      2\u001b[0m \u001b[0;34m\u001b[0m\u001b[0m\n\u001b[1;32m      3\u001b[0m \u001b[0msquares1\u001b[0m \u001b[0;34m=\u001b[0m \u001b[0;34m[\u001b[0m\u001b[0mx\u001b[0m\u001b[0;34m**\u001b[0m\u001b[0;36m2\u001b[0m \u001b[0;32mfor\u001b[0m \u001b[0mx\u001b[0m \u001b[0;32min\u001b[0m \u001b[0mrange\u001b[0m\u001b[0;34m(\u001b[0m\u001b[0;36m10\u001b[0m\u001b[0;34m)\u001b[0m\u001b[0;34m]\u001b[0m\u001b[0;34m\u001b[0m\u001b[0m\n\u001b[0;32m----> 4\u001b[0;31m \u001b[0mprint\u001b[0m\u001b[0;34m(\u001b[0m\u001b[0;34m\"squares1\"\u001b[0m\u001b[0;34m,\u001b[0m \u001b[0msquares1\u001b[0m\u001b[0;34m)\u001b[0m\u001b[0;34m\u001b[0m\u001b[0m\n\u001b[0m\u001b[1;32m      5\u001b[0m \u001b[0;34m\u001b[0m\u001b[0m\n\u001b[1;32m      6\u001b[0m \u001b[0;31m#the line above same as below\u001b[0m\u001b[0;34m\u001b[0m\u001b[0;34m\u001b[0m\u001b[0m\n",
      "\u001b[0;31mTypeError\u001b[0m: 'tuple' object is not callable"
     ]
    }
   ],
   "source": [
    "# Example 5.1.3.1 List Comprehensions\n",
    "\n",
    "squares1 = [x**2 for x in range(10)]\n",
    "print(\"squares1\", squares1)\n",
    "\n",
    "#the line above same as below\n",
    "squares2 = list(map(lambda x: x**2, range(10)))\n",
    "print('squares-2', squares2)\n",
    "\n",
    "\n",
    "# Example 5.1.3.2 \n",
    "result = [(x,y) for x in [1,2,3] for y in [3,1,4] if x!=y]\n",
    "print = (\"result =\", result)\n",
    "\n",
    "## Example 5.1.3.3 is equivalent to Example 5.1.3.2 :\n",
    "combs = []\n",
    "\n",
    "for x in [1,2,3]:\n",
    "     for y in [3,1,4]:\n",
    "         if x != y:\n",
    "             combs.append((x, y))\n",
    "\n",
    "#Note how the order of the for and if statements is the same in both these snippets.\n",
    "\n",
    "print(\"comb = \", combs)"
   ]
  },
  {
   "cell_type": "code",
   "execution_count": 7,
   "metadata": {},
   "outputs": [
    {
     "ename": "SyntaxError",
     "evalue": "invalid syntax (<ipython-input-7-c2bca7fbba4f>, line 28)",
     "output_type": "error",
     "traceback": [
      "\u001b[0;36m  File \u001b[0;32m\"<ipython-input-7-c2bca7fbba4f>\"\u001b[0;36m, line \u001b[0;32m28\u001b[0m\n\u001b[0;31m    [x, x**2 for x in range(6)]\u001b[0m\n\u001b[0m               ^\u001b[0m\n\u001b[0;31mSyntaxError\u001b[0m\u001b[0;31m:\u001b[0m invalid syntax\n"
     ]
    }
   ],
   "source": [
    "#If the expression is a tuple (e.g. the (x, y) in the previous example), it must be parenthesized.\n",
    "\n",
    "vec = [-4, -2, 0, 2, 4]\n",
    "# create a new list with the values doubled\n",
    "\n",
    "[x*2 for x in vec]\n",
    "# [-8, -4, 0, 4, 8]\n",
    "\n",
    "# filter the list to exclude negative numbers\n",
    "[x for x in vec if x >= 0]\n",
    "# [0, 2, 4]\n",
    "\n",
    "\n",
    "# apply a function to all the elements\n",
    "[abs(x) for x in vec]\n",
    "# [4, 2, 0, 2, 4]\n",
    "\n",
    "# call a method on each element\n",
    "freshfruit = ['  banana', '  loganberry ', 'passion fruit  ']\n",
    "[weapon.strip() for weapon in freshfruit]\n",
    "# ['banana', 'loganberry', 'passion fruit']\n",
    "\n",
    "# create a list of 2-tuples like (number, square)\n",
    "[(x, x**2) for x in range(6)]\n",
    "# [(0, 0), (1, 1), (2, 4), (3, 9), (4, 16), (5, 25)]\n",
    "\n",
    "# the tuple must be parenthesized, otherwise an error is raised\n",
    "[x, x**2 for x in range(6)]\n",
    "\n",
    "#  File \"<stdin>\", line 1, in <module>\n",
    "[x, x**2 for x in range(6)]\n",
    "               ^\n",
    "# SyntaxError: invalid syntax\n",
    "# flatten a list using a listcomp with two 'for'\n",
    "vec = [[1,2,3], [4,5,6], [7,8,9]]\n",
    "res = [num for elem in vec for num in elem]\n",
    "\n",
    "print (\"res = [num for elem in vec for num in elem]\",res )\n",
    "#[1, 2, 3, 4, 5, 6, 7, 8, 9]"
   ]
  },
  {
   "cell_type": "code",
   "execution_count": null,
   "metadata": {},
   "outputs": [],
   "source": []
  },
  {
   "cell_type": "code",
   "execution_count": null,
   "metadata": {},
   "outputs": [],
   "source": []
  },
  {
   "cell_type": "code",
   "execution_count": null,
   "metadata": {},
   "outputs": [],
   "source": []
  },
  {
   "cell_type": "code",
   "execution_count": null,
   "metadata": {},
   "outputs": [],
   "source": []
  },
  {
   "cell_type": "code",
   "execution_count": null,
   "metadata": {},
   "outputs": [],
   "source": []
  },
  {
   "cell_type": "code",
   "execution_count": null,
   "metadata": {},
   "outputs": [],
   "source": [
    "\n",
    "\n",
    "\n",
    "List comprehensions can contain complex expressions and nested functions:\n",
    "\n",
    ">>>\n",
    ">>> from math import pi\n",
    ">>> [str(round(pi, i)) for i in range(1, 6)]\n",
    "['3.1', '3.14', '3.142', '3.1416', '3.14159']\n",
    "5.1.4. Nested List Comprehensions\n",
    "The initial expression in a list comprehension can be any arbitrary expression, including another list comprehension.\n",
    "\n",
    "Consider the following example of a 3x4 matrix implemented as a list of 3 lists of length 4:\n",
    "\n",
    ">>>\n",
    ">>> matrix = [\n",
    "...     [1, 2, 3, 4],\n",
    "...     [5, 6, 7, 8],\n",
    "...     [9, 10, 11, 12],\n",
    "... ]\n",
    "The following list comprehension will transpose rows and columns:\n",
    "\n",
    ">>>\n",
    ">>> [[row[i] for row in matrix] for i in range(4)]\n",
    "[[1, 5, 9], [2, 6, 10], [3, 7, 11], [4, 8, 12]]\n",
    "As we saw in the previous section, the nested listcomp is evaluated in the context of the for that follows it, so this example is equivalent to:\n",
    "\n",
    ">>>\n",
    ">>> transposed = []\n",
    ">>> for i in range(4):\n",
    "...     transposed.append([row[i] for row in matrix])\n",
    "...\n",
    ">>> transposed\n",
    "[[1, 5, 9], [2, 6, 10], [3, 7, 11], [4, 8, 12]]\n",
    "which, in turn, is the same as:\n",
    "\n",
    ">>>\n",
    ">>> transposed = []\n",
    ">>> for i in range(4):\n",
    "...     # the following 3 lines implement the nested listcomp\n",
    "...     transposed_row = []\n",
    "...     for row in matrix:\n",
    "...         transposed_row.append(row[i])\n",
    "...     transposed.append(transposed_row)\n",
    "...\n",
    ">>> transposed\n",
    "[[1, 5, 9], [2, 6, 10], [3, 7, 11], [4, 8, 12]]\n",
    "In the real world, you should prefer built-in functions to complex flow statements. The zip() function would do a great job for this use case:\n",
    "\n",
    ">>>\n",
    ">>> list(zip(*matrix))\n",
    "[(1, 5, 9), (2, 6, 10), (3, 7, 11), (4, 8, 12)]\n",
    "See Unpacking Argument Lists for details on the asterisk in this line.\n",
    "\n"
   ]
  },
  {
   "cell_type": "markdown",
   "metadata": {},
   "source": [
    "# 5.2. The del statement\n",
    "There is a way to remove an item from a list given its index instead of its value: the del statement. This differs from the pop() method which returns a value. The del statement can also be used to remove slices from a list or clear the entire list (which we did earlier by assignment of an empty list to the slice). For example:\n",
    "\n"
   ]
  },
  {
   "cell_type": "code",
   "execution_count": null,
   "metadata": {},
   "outputs": [],
   "source": [
    "a = [-1, 1, 66.25, 333, 333, 1234.5]\n",
    "print(\"\\n a =\", a)\n",
    "del a[0]\n",
    "print (\"result of del a[0] = \", a)\n",
    "\n",
    "del a[2:4]\n",
    "print (\"result of del a[2:4] = \", a)\n",
    "\n",
    "del a[:]\n",
    "print (\"result of del a'[:] = \", a)\n",
    "\n",
    "#del can also be used to delete entire variables:\n",
    "del a \n",
    "print (\"result of del a = \", a)\n",
    "\n"
   ]
  },
  {
   "cell_type": "markdown",
   "metadata": {},
   "source": [
    "Referencing the name a hereafter is an error (at least until another value is assigned to it). We’ll find other uses for del later.\n",
    "\n",
    "# 5.3. Tuples and Sequences\n",
    "We saw that lists and strings have many common properties, such as indexing and slicing operations. They are two examples of sequence data types (see Sequence Types — list, tuple, range). Since Python is an evolving language, other sequence data types may be added. There is also another standard sequence data type: the tuple.\n",
    "\n",
    "## Example 5.3. Tuples and Sequences\n",
    "A tuple consists of a number of values separated by commas, for instance:"
   ]
  },
  {
   "cell_type": "code",
   "execution_count": null,
   "metadata": {},
   "outputs": [],
   "source": [
    "# Example 5.3. Tuples and Sequences\n",
    "t = 12345, 54321, 'hello!'\n",
    "print (\"\\n t[0] = \", t[0])\n",
    "print (\"\\n t = \", t)\n",
    "\n",
    "## Example 5.3.1 Tuples and Sequences\n",
    "# Tuples may be nested:\n",
    "u = t, (1, 2, 3, 4, 5)\n",
    "print (\"\\n u = \", u)\n",
    "\n",
    "## Example 5.3.2 Tuples and Sequences\n",
    "# Tuples are immutable:\n",
    "\n",
    "# t[0] = 88888 # running this line will tirrger an error \n",
    "\n",
    "#  Traceback (most recent call last):\n",
    "#  File \"<stdin>\", line 1, in <module>\n",
    "#  TypeError: 'tuple' object does not support item assignment\n",
    "\n",
    "## Example 5.3.3 Tuples and Sequences\n",
    "# but they can contain mutable objects:\n",
    "v = ([1, 2, 3], [3, 2, 1])\n",
    "\n",
    "print(\"v = \", v)"
   ]
  },
  {
   "cell_type": "markdown",
   "metadata": {},
   "source": [
    "\n",
    "As you see, on output tuples are always enclosed in parentheses, so that nested tuples are interpreted correctly; they may be input with or without surrounding parentheses, although often parentheses are necessary anyway (if the tuple is part of a larger expression). It is not possible to assign to the individual items of a tuple, however it is possible to create tuples which contain mutable objects, such as lists.\n",
    "\n",
    "Though tuples may seem similar to lists, they are often used in different situations and for different purposes. Tuples are immutable, and usually contain a heterogeneous sequence of elements that are accessed via unpacking (see later in this section) or indexing (or even by attribute in the case of namedtuples). Lists are mutable, and their elements are usually homogeneous and are accessed by iterating over the list.\n",
    "\n",
    "A special problem is the construction of tuples containing 0 or 1 items: the syntax has some extra quirks to accommodate these. Empty tuples are constructed by an empty pair of parentheses; a tuple with one item is constructed by following a value with a comma (it is not sufficient to enclose a single value in parentheses). Ugly, but effective. For example:"
   ]
  },
  {
   "cell_type": "code",
   "execution_count": null,
   "metadata": {},
   "outputs": [],
   "source": [
    "empty = ()\n",
    "\n",
    "singleton = 'hello',    # <-- note trailing comma\n",
    "\n",
    "print(\" \\n len(empty) = \",len(empty))\n",
    "\n",
    "print(\"\\n len(singleton) = \",len(singleton))\n",
    "\n",
    "print(\"\\n singleton = \",singleton)\n",
    "\n",
    "#The statement t = 12345, 54321, 'hello!' is an example of tuple packing: \n",
    "# the values 12345, 54321 and 'hello!' are packed together in a tuple. \n",
    "#The reverse operation is also possible:\n",
    "\n",
    "x, y, z = t\n",
    "print(\"x, y, z = t = \", t)"
   ]
  },
  {
   "cell_type": "markdown",
   "metadata": {},
   "source": [
    "This is called, appropriately enough, sequence unpacking and works for any sequence on the right-hand side. Sequence unpacking requires that there are as many variables on the left side of the equals sign as there are elements in the sequence. Note that multiple assignment is really just a combination of tuple packing and sequence unpacking.\n",
    "\n",
    "# 5.4. Sets\n",
    "\n",
    "Python also includes a data type for sets. A set is an unordered collection with no duplicate elements. Basic uses include membership testing and eliminating duplicate entries. Set objects also support mathematical operations like union, intersection, difference, and symmetric difference.\n",
    "\n",
    "Curly braces or the set() function can be used to create sets. Note: to create an empty set you have to use set(), not {}; the latter creates an empty dictionary, a data structure that we discuss in the next section.\n",
    "\n",
    "Here is a brief demonstration:\n",
    "\n",
    "\n"
   ]
  },
  {
   "cell_type": "code",
   "execution_count": null,
   "metadata": {},
   "outputs": [],
   "source": [
    "basket = {'apple', 'orange', 'apple', 'pear', 'orange', 'banana'}\n",
    "\n",
    "print(\"\\n basket\",basket)                      # show that duplicates have been removed\n",
    "\n",
    "print(\"\\n 'orange' in basket\",'orange' in basket)   # fast membership testing\n",
    "\n",
    "print(\" \\n 'crabgrass' in basket\",'crabgrass' in basket)\n",
    "\n",
    "\n",
    "# Demonstrate set operations on unique letters from two words\n",
    "a = set('abracadabra')\n",
    "b = set('alacazam')\n",
    "\n",
    "print(\"\\n a = \", a)                           # unique letters in a\n",
    "print(\"\\n a - b = \", a - b)                           # letters in a but not in b\n",
    "print(\"\\n a | b = \", a | b)                  # letters in a or b or both\n",
    "print(\"\\n a & b =\", a & b)                   # letters in both a and b\n",
    "print(\"\\n a ^ b = \", a ^ b)                   # letters in a or b but not both\n",
    "\n",
    "#Similarly to list comprehensions, set comprehensions are also supported:\n",
    "a = {x for x in 'abracadabra' if x not in 'abc'}\n",
    "\n",
    "print(\"a = \",a)\n",
    "\n"
   ]
  },
  {
   "cell_type": "markdown",
   "metadata": {},
   "source": [
    "# 5.5. Dictionaries\n",
    "\n",
    "The dictionary **(see Mapping Types — dict)** is another useful data type built in Python.\n",
    "\n",
    "Dictionaries are sometimes found in other languages as “associative memories” or “associative arrays”. Unlike sequences, which are indexed by a range of numbers, dictionaries are indexed by keys, which can be any immutable type; strings and numbers can always be keys. Tuples can be used as keys if they contain only strings, numbers, or tuples; if a tuple contains any mutable object either directly or indirectly, it cannot be used as a key. You can’t use lists as keys, since lists can be modified in place using index assignments, slice assignments, or methods like append() and extend().\n",
    "\n",
    "It is best to think of a dictionary as a set of key: value pairs, with the requirement that the keys are unique (within one dictionary). A pair of braces creates an empty dictionary: {}. Placing a comma-separated list of key:value pairs within the braces adds initial key:value pairs to the dictionary; this is also the way dictionaries are written on output.\n",
    "\n",
    "The main operations on a dictionary are storing a value with some key and extracting the value given the key. It is also possible to delete a key:value pair with del. If you store using a key that is already in use, the old value associated with that key is forgotten. It is an error to extract a value using a non-existent key.\n",
    "\n",
    "Performing list(d) on a dictionary returns a list of all the keys used in the dictionary, in insertion order (if you want it sorted, just use sorted(d) instead). To check whether a single key is in the dictionary, use the in keyword.\n",
    "\n",
    "## Example 5.5. Dictionaries\n",
    "\n",
    "\n",
    "Here is a small example using a dictionary:"
   ]
  },
  {
   "cell_type": "code",
   "execution_count": 30,
   "metadata": {},
   "outputs": [
    {
     "name": "stdout",
     "output_type": "stream",
     "text": [
      "\n",
      " tel = {'jack': 4098, 'sape': 4139, 'guido': 4127}\n",
      "\n",
      " tel['jack']= 4098\n",
      "\n",
      " result of del tel['sape'] = {'jack': 4098, 'guido': 4127}\n",
      "\n",
      " result of tel['irv'] = 4127 is {'jack': 4098, 'guido': 4127, 'irv': 4127}\n",
      "\n",
      " list(tel) = ['jack', 'guido', 'irv']\n",
      "\n",
      " sorted(tel) = ['guido', 'irv', 'jack']\n",
      "\n",
      " guido in tel = True\n",
      "\n",
      " 'jack' not in tel = False\n",
      "\n",
      " dict([('sape', 4139), ('guido', 4127), ('jack', 4098)]) =  {'sape': 4139, 'guido': 4127, 'jack': 4098}\n",
      "\n",
      " {x: x**2 for x in (2, 4, 6)} {2: 4, 4: 16, 6: 36}\n",
      "\n",
      " dict(sape=4139, guido=4127, jack=4098) {'sape': 4139, 'guido': 4127, 'jack': 4098}\n"
     ]
    }
   ],
   "source": [
    "# Example 5.5.0 Dictionaries\n",
    "tel = {'jack': 4098, 'sape': 4139}\n",
    "tel['guido'] = 4127\n",
    "print(\"\\n tel =\",tel)\n",
    "\n",
    "# Example 5.5.1 Dictionaries\n",
    "print(\"\\n tel['jack']=\",tel['jack'])\n",
    "\n",
    "# Example 5.5.2 Dictionaries\n",
    "del tel['sape']\n",
    "print(\"\\n result of del tel['sape'] =\",tel)\n",
    "\n",
    "# Example 5.5.3 Dictionaries\n",
    "tel['irv'] = 4127\n",
    "print(\"\\n result of tel['irv'] = 4127 is\",tel)\n",
    "\n",
    "# Example 5.5.4 Dictionaries\n",
    "print(\"\\n list(tel) =\", list(tel))\n",
    "\n",
    "# Example 5.5.5 Dictionaries\n",
    "print(\"\\n sorted(tel) =\", sorted(tel))\n",
    "\n",
    "# Example 5.5.6 Dictionaries\n",
    "print(\"\\n guido in tel =\",'guido' in tel)\n",
    "\n",
    "# Example 5.5.7 Dictionaries\n",
    "print(\"\\n 'jack' not in tel =\",'jack' not in tel)\n",
    "\n",
    "# Example 5.5.8 Dictionaries\n",
    "#The dict() constructor builds dictionaries directly from sequences of key-value pairs:\n",
    "print(\"\\n dict([('sape', 4139), ('guido', 4127), ('jack', 4098)]) = \",dict([('sape', 4139), ('guido', 4127), ('jack', 4098)]))\n",
    "\n",
    "# Example 5.5.9 Dictionaries\n",
    "#In addition, dict comprehensions can be used to create dictionaries from arbitrary key and value expressions:\n",
    "print(\"\\n {x: x**2 for x in (2, 4, 6)}\",{x: x**2 for x in (2, 4, 6)})\n",
    "\n",
    "# Example 5.5.10 Dictionaries\n",
    "#When the keys are simple strings, it is sometimes easier to specify pairs using keyword arguments:\n",
    "print(\"\\n dict(sape=4139, guido=4127, jack=4098)\",dict(sape=4139, guido=4127, jack=4098))"
   ]
  },
  {
   "cell_type": "markdown",
   "metadata": {},
   "source": [
    "# 5.6. Looping Techniques\n",
    "When looping through dictionaries, the key and corresponding value can be retrieved at the same time using the items() method.\n",
    "\n",
    "## Example 5.6. Looping Techniques\n",
    "\n"
   ]
  },
  {
   "cell_type": "code",
   "execution_count": 20,
   "metadata": {},
   "outputs": [
    {
     "name": "stdout",
     "output_type": "stream",
     "text": [
      "gallahad the pure\n",
      "robin the brave\n"
     ]
    }
   ],
   "source": [
    "# Example 5.6.1 Looping Techniques\n",
    "knights = {'gallahad': 'the pure', 'robin': 'the brave'}\n",
    "\n",
    "for k, v in knights.items():\n",
    "    print(k, v)"
   ]
  },
  {
   "cell_type": "code",
   "execution_count": 18,
   "metadata": {},
   "outputs": [
    {
     "name": "stdout",
     "output_type": "stream",
     "text": [
      "0 tic\n",
      "1 tac\n",
      "2 toe\n"
     ]
    }
   ],
   "source": [
    "## Example 5.6.2 Looping Techniques\n",
    "\n",
    "#When looping through a sequence, the position index and corresponding value can be retrieved at the same time using the enumerate() function.\n",
    "\n",
    "for i, v in enumerate(['tic', 'tac', 'toe']):\n",
    "    print(i, v)"
   ]
  },
  {
   "cell_type": "code",
   "execution_count": 16,
   "metadata": {},
   "outputs": [
    {
     "name": "stdout",
     "output_type": "stream",
     "text": [
      "What is your name?  It is lancelot.\n",
      "What is your quest?  It is the holy grail.\n",
      "What is your favorite color?  It is blue.\n"
     ]
    }
   ],
   "source": [
    "# Example 5.6.3 Looping Techniques\n",
    "\n",
    "#To loop over two or more sequences at the same time, the entries can be paired with the zip() function.\n",
    "\n",
    "questions = ['name', 'quest', 'favorite color']\n",
    "answers = ['lancelot', 'the holy grail', 'blue']\n",
    "\n",
    "for q, a in zip(questions, answers):\n",
    "    print('What is your {0}?  It is {1}.'.format(q, a))"
   ]
  },
  {
   "cell_type": "code",
   "execution_count": 15,
   "metadata": {},
   "outputs": [
    {
     "name": "stdout",
     "output_type": "stream",
     "text": [
      "9\n",
      "7\n",
      "5\n",
      "3\n",
      "1\n"
     ]
    }
   ],
   "source": [
    "# Example 5.6.4 Looping Techniques\n",
    "\n",
    "#To loop over a sequence in reverse, first specify the sequence in a forward direction and then call the reversed() function.\n",
    "\n",
    "for i in reversed(range(1, 10, 2)):\n",
    "    print(i)"
   ]
  },
  {
   "cell_type": "code",
   "execution_count": 14,
   "metadata": {},
   "outputs": [
    {
     "name": "stdout",
     "output_type": "stream",
     "text": [
      "apple\n",
      "banana\n",
      "orange\n",
      "pear\n"
     ]
    }
   ],
   "source": [
    "# Example 5.6.5 Looping Techniques\n",
    "\n",
    "#To loop over a sequence in sorted order, use the sorted() function\n",
    "#which returns a new sorted list while leaving the source unaltered.\n",
    "\n",
    "\n",
    "basket = ['apple', 'orange', 'apple', 'pear', 'orange', 'banana']\n",
    "for f in sorted(set(basket)):\n",
    "    print(f)"
   ]
  },
  {
   "cell_type": "code",
   "execution_count": 13,
   "metadata": {},
   "outputs": [
    {
     "data": {
      "text/plain": [
       "[56.2, 51.7, 55.3, 52.5, 47.8]"
      ]
     },
     "execution_count": 13,
     "metadata": {},
     "output_type": "execute_result"
    }
   ],
   "source": [
    "# Example 5.6.6 Looping Techniques\n",
    "\n",
    "#It is sometimes tempting to change a list while you are looping over it; however, it is often simpler and safer to create a new list instead.\n",
    "\n",
    "import math\n",
    "raw_data = [56.2, float('NaN'), 51.7, 55.3, 52.5, float('NaN'), 47.8]\n",
    "filtered_data = []\n",
    "for value in raw_data:\n",
    "    if not math.isnan(value):\n",
    "        filtered_data.append(value)\n",
    "\n",
    "filtered_data\n",
    "\n"
   ]
  },
  {
   "cell_type": "markdown",
   "metadata": {},
   "source": [
    "# 5.7. More on Conditions\n",
    "\n",
    "The conditions used in while and if statements can contain any operators, not just comparisons.\n",
    "\n",
    "The comparison operators in and not in check whether a value occurs (does not occur) in a sequence. The operators is and is not compare whether two objects are really the same object; this only matters for mutable objects like lists. All comparison operators have the same priority, which is lower than that of all numerical operators.\n",
    "\n",
    "Comparisons can be chained. For example, a < b == c tests whether a is less than b and moreover b equals c.\n",
    "\n",
    "Comparisons may be combined using the Boolean operators and and or, and the outcome of a comparison (or of any other Boolean expression) may be negated with not. These have lower priorities than comparison operators; between them, not has the highest priority and or the lowest, so that A and not B or C is equivalent to (A and (not B)) or C. As always, parentheses can be used to express the desired composition.\n",
    "\n",
    "The Boolean operators and and or are so-called short-circuit operators: their arguments are evaluated from left to right, and evaluation stops as soon as the outcome is determined. For example, if A and C are true but B is false, A and B and C does not evaluate the expression C. When used as a general value and not as a Boolean, the return value of a short-circuit operator is the last evaluated argument.\n",
    "\n",
    "It is possible to assign the result of a comparison or other Boolean expression to a variable. For example,"
   ]
  },
  {
   "cell_type": "code",
   "execution_count": 5,
   "metadata": {},
   "outputs": [
    {
     "data": {
      "text/plain": [
       "'Trondheim'"
      ]
     },
     "execution_count": 5,
     "metadata": {},
     "output_type": "execute_result"
    }
   ],
   "source": [
    "string1, string2, string3 = '', 'Trondheim', 'Hammer Dance'\n",
    "non_null = string1 or string2 or string3\n",
    "non_null"
   ]
  },
  {
   "cell_type": "markdown",
   "metadata": {},
   "source": [
    "\n",
    "# 5.8. Comparing Sequences and Other Types\n",
    "Sequence objects may be compared to other objects with the same sequence type. The comparison uses lexicographical ordering: first the first two items are compared, and if they differ this determines the outcome of the comparison; if they are equal, the next two items are compared, and so on, until either sequence is exhausted. If two items to be compared are themselves sequences of the same type, the lexicographical comparison is carried out recursively. If all items of two sequences compare equal, the sequences are considered equal. If one sequence is an initial sub-sequence of the other, the shorter sequence is the smaller (lesser) one. Lexicographical ordering for strings uses the Unicode code point number to order individual characters. Some examples of comparisons between sequences of the same type:\n",
    "\n",
    "(1, 2, 3)              < (1, 2, 4)\n",
    "\n",
    "[1, 2, 3]              < [1, 2, 4]\n",
    "\n",
    "'ABC' < 'C' < 'Pascal' < 'Python'\n",
    "\n",
    "(1, 2, 3, 4)           < (1, 2, 4)\n",
    "\n",
    "(1, 2)                 < (1, 2, -1)\n",
    "\n",
    "(1, 2, 3)             == (1.0, 2.0, 3.0)\n",
    "\n",
    "(1, 2, ('aa', 'ab'))   < (1, 2, ('abc', 'a'), 4)\n",
    "\n",
    "Note that comparing objects of different types with < or > is legal provided that the objects have appropriate comparison methods. For example, mixed numeric types are compared according to their numeric value, so 0 equals 0.0, etc. Otherwise, rather than providing an arbitrary ordering, the interpreter will raise a TypeError exception."
   ]
  },
  {
   "cell_type": "code",
   "execution_count": null,
   "metadata": {},
   "outputs": [],
   "source": []
  }
 ],
 "metadata": {
  "kernelspec": {
   "display_name": "Python 3",
   "language": "python",
   "name": "python3"
  },
  "language_info": {
   "codemirror_mode": {
    "name": "ipython",
    "version": 3
   },
   "file_extension": ".py",
   "mimetype": "text/x-python",
   "name": "python",
   "nbconvert_exporter": "python",
   "pygments_lexer": "ipython3",
   "version": "3.6.4"
  }
 },
 "nbformat": 4,
 "nbformat_minor": 2
}
