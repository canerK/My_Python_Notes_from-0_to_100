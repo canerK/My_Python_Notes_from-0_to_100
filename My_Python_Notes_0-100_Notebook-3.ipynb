{
 "cells": [
  {
   "cell_type": "markdown",
   "metadata": {},
   "source": [
    "# 5. Data Structures\n",
    "\n",
    "## 5.1. More on Lists\n",
    "The list data type has some more methods. Here are all of the methods of list objects:\n",
    "\n",
    "## 5.1.1 list.append(x)\n",
    "Add an item to the end of the list. Equivalent to a[len(a):] = [x].\n",
    "\n",
    "## 5.1.2 list.extend(iterable)\n",
    "Extend the list by appending all the items from the iterable. \n",
    "Equivalent to a[len(a):] = iterable.\n",
    "\n",
    "## 5.1.3 list.insert(i, x)\n",
    "Insert an item at a given position. The first argument is the index of the element before which to insert, so a.insert(0, x) inserts at the front of the list, and a.insert(len(a), x) is equivalent to a.append(x).\n",
    "\n",
    "## 5.1.4 list.remove(x)\n",
    "Remove the first item from the list whose value is equal to x. It raises a ValueError if there is no such item.\n",
    "\n",
    "## 5.1.5 list.pop([i])\n",
    "Remove the item at the given position in the list, and return it. If no index is specified, a.pop() removes and returns the last item in the list. (The square brackets around the i in the method signature denote that the parameter is optional, not that you should type square brackets at that position. You will see this notation frequently in the Python Library Reference.)\n",
    "\n",
    "## 5.1.6 list.clear()\n",
    "Remove all items from the list. Equivalent to del a[:].\n",
    "\n",
    "## 5.1.7 list.index(x[, start[, end]])\n",
    "Return zero-based index in the list of the first item whose value is equal to x. Raises a ValueError if there is no such item.\n",
    "The start and end are optional arguments interpreted as in the slice notation and are used to limit the search to a particular subsequence of the list. The returned index is computed relative to the beginning of the full sequence rather than the start argument.\n",
    "\n",
    "## 5.1.8 list.count(x)\n",
    "Return the number of times x appears in the list.\n",
    "\n",
    "## 5.1.9 list.sort(key=None, reverse=False)\n",
    "Sort the items of the list in place (the arguments can be used for sort customization, see sorted() for their explanation).\n",
    "\n",
    "## 5.1.10 list.reverse()\n",
    "Reverse the elements of the list in place.\n",
    "\n",
    "## 5.1.11 list.copy()\n",
    "Return a shallow copy of the list. Equivalent to a[:].\n",
    "\n",
    "### Example 5.1.List\n",
    "An example that uses most of the list methods:"
   ]
  },
  {
   "cell_type": "code",
   "execution_count": 19,
   "metadata": {},
   "outputs": [
    {
     "name": "stdout",
     "output_type": "stream",
     "text": [
      "fruits.count('apple') = 2\n",
      "fruits.count('tangerine')) = 0\n",
      "furit.index('banana') = 3\n",
      "furit.index('banana',4) = 6\n",
      "fruits.reverse() = ['banana', 'apple', 'kiwi', 'banana', 'pear', 'apple', 'orange']\n",
      "fruits.append('grape') = ['banana', 'apple', 'kiwi', 'banana', 'pear', 'apple', 'orange']\n",
      "fruits.sort() = ['apple', 'apple', 'banana', 'banana', 'kiwi', 'orange', 'pear']\n",
      "fruits.pop() = ['apple', 'apple', 'banana', 'banana', 'kiwi', 'orange', 'pear']\n"
     ]
    }
   ],
   "source": [
    "\n",
    "fruits = ['orange', 'apple', 'pear', 'banana', 'kiwi', 'apple', 'banana']\n",
    "\n",
    "fruits.count('apple')\n",
    "print('fruits.count(\\'apple\\') =', fruits.count('apple'))\n",
    "\n",
    "\n",
    "fruits.count('tangerine')\n",
    "print('fruits.count(\\'tangerine\\')) =',fruits.count('tangerine'))\n",
    "\n",
    "\n",
    "fruits.index('banana')\n",
    "print('furit.index(\\'banana\\') =', fruits.index('banana'))\n",
    "\n",
    "\n",
    "fruits.index('banana', 4)  # Find next banana starting a position 4\n",
    "print('furit.index(\\'banana\\',4) =', fruits.index('banana',4))\n",
    "\n",
    "\n",
    "\n",
    "fruits.reverse()\n",
    "print('fruits.reverse() =', fruits)\n",
    "\n",
    "\n",
    "print('fruits.append(\\'grape\\') =', fruits)\n",
    "\n",
    "\n",
    "fruits.sort()\n",
    "print('fruits.sort() =', fruits)\n",
    "\n",
    "print('fruits.pop() =', fruits)\n"
   ]
  },
  {
   "cell_type": "markdown",
   "metadata": {},
   "source": [
    "\n",
    "## 5.1.1. Using Lists as Stacks\n",
    "\n"
   ]
  },
  {
   "cell_type": "code",
   "execution_count": null,
   "metadata": {},
   "outputs": [],
   "source": []
  }
 ],
 "metadata": {
  "kernelspec": {
   "display_name": "Python 3",
   "language": "python",
   "name": "python3"
  },
  "language_info": {
   "codemirror_mode": {
    "name": "ipython",
    "version": 3
   },
   "file_extension": ".py",
   "mimetype": "text/x-python",
   "name": "python",
   "nbconvert_exporter": "python",
   "pygments_lexer": "ipython3",
   "version": "3.6.4"
  }
 },
 "nbformat": 4,
 "nbformat_minor": 2
}
