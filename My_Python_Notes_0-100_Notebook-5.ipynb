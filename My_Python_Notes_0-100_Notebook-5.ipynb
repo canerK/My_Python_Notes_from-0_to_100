{
 "cells": [
  {
   "cell_type": "markdown",
   "metadata": {},
   "source": [
    "# 7 Function Decleration\n",
    "\n",
    "Functions are the basic unit of reusable code in Python.\n",
    "\n",
    "First, in the given example below, with an if statement you may have the code on the same line as long as it's just one line of code. But this is one case where it is commonly done this way. \n",
    "\n",
    "Second, we have this conditional expression here which compares using the double equal to a test for equality, for value equality. The special variable name with double underscores on either side against a string literal which says main with double underscores on each side. \n",
    "   So this name variable, this special variable name, will return the name of the current module."
   ]
  },
  {
   "cell_type": "code",
   "execution_count": 84,
   "metadata": {},
   "outputs": [
    {
     "name": "stdout",
     "output_type": "stream",
     "text": [
      "Hello Kitty!\n"
     ]
    }
   ],
   "source": [
    "def main():\n",
    "    kitty()\n",
    "\n",
    "def kitty():\n",
    "    print(\"Hello Kitty!\")\n",
    "    \n",
    "if __name__ == '__main__': main()"
   ]
  },
  {
   "cell_type": "markdown",
   "metadata": {},
   "source": [
    "## 7.1 Function Decleration and return\n",
    "\n",
    "A function in some programming languages something that returns a value and a procedure something that does not return a value. In Python, all functions return a value, even if the value is none, so there's no distinction between functions and procedures. Python functions are simple and powerful. And, we'll get into details in the rest of this notebook.\n",
    "\n",
    "\n",
    "## 7.1 Example"
   ]
  },
  {
   "cell_type": "code",
   "execution_count": 85,
   "metadata": {},
   "outputs": [
    {
     "name": "stdout",
     "output_type": "stream",
     "text": [
      "Hello Kitty!\n"
     ]
    }
   ],
   "source": [
    "## 7.1 Example\n",
    "\n",
    "def main():\n",
    "    x = kitty()\n",
    "    print(x)\n",
    "\n",
    "def kitty():\n",
    "    return \"Hello Kitty!\"\n",
    "    \n",
    "if __name__ == '__main__': main()\n",
    "    "
   ]
  },
  {
   "cell_type": "code",
   "execution_count": 86,
   "metadata": {},
   "outputs": [
    {
     "name": "stdout",
     "output_type": "stream",
     "text": [
      "The result of calculation is 5\n"
     ]
    }
   ],
   "source": [
    "## 7.2.1 Example\n",
    "\n",
    "def main():\n",
    "    x,y = 2,3\n",
    "    z = kitty(x,y)\n",
    "    print (f\"The result of calculation is {z}\")\n",
    "\n",
    "def kitty(a,b):\n",
    "    c = a+b \n",
    "    return c\n",
    "    \n",
    "if __name__ == '__main__': main()\n",
    "    "
   ]
  },
  {
   "cell_type": "code",
   "execution_count": 87,
   "metadata": {},
   "outputs": [
    {
     "name": "stdout",
     "output_type": "stream",
     "text": [
      "The result of calculation is 4\n"
     ]
    }
   ],
   "source": [
    "## 7.2.2 Example Default function arguments/hardcoded\n",
    "\n",
    "def main():\n",
    "    \n",
    "    z = kitty()\n",
    "    print (f\"The result of calculation is {z}\")\n",
    "\n",
    "def kitty(a=2,b=2):\n",
    "    c = a+b \n",
    "    return c\n",
    "    \n",
    "if __name__ == '__main__': main()\n",
    "    "
   ]
  },
  {
   "cell_type": "code",
   "execution_count": 88,
   "metadata": {},
   "outputs": [
    {
     "name": "stdout",
     "output_type": "stream",
     "text": [
      "The result of calculation is 3\n"
     ]
    }
   ],
   "source": [
    "## 7.2.3 Example Default function arguments/hardcoded\n",
    "#this will also could work\n",
    "def main():\n",
    "    \n",
    "    z = kitty(1)\n",
    "    print (f\"The result of calculation is {z}\")\n",
    "\n",
    "def kitty(a,b=2):\n",
    "    c = a+b \n",
    "    return c\n",
    "    \n",
    "if __name__ == '__main__': main()\n",
    "    "
   ]
  },
  {
   "cell_type": "code",
   "execution_count": 89,
   "metadata": {},
   "outputs": [
    {
     "ename": "SyntaxError",
     "evalue": "non-default argument follows default argument (<ipython-input-89-2398412408db>, line 8)",
     "output_type": "error",
     "traceback": [
      "\u001b[0;36m  File \u001b[0;32m\"<ipython-input-89-2398412408db>\"\u001b[0;36m, line \u001b[0;32m8\u001b[0m\n\u001b[0;31m    def kitty(a,b=2,c):\u001b[0m\n\u001b[0m             ^\u001b[0m\n\u001b[0;31mSyntaxError\u001b[0m\u001b[0;31m:\u001b[0m non-default argument follows default argument\n"
     ]
    }
   ],
   "source": [
    "## 7.2.3 Example Default function arguments/hardcoded\n",
    "#this will not work\n",
    "def main():\n",
    "    \n",
    "    z = kitty(1)\n",
    "    print (f\"The result of calculation is {z}\")\n",
    "\n",
    "def kitty(a,b=2,c):\n",
    "    c = a+b \n",
    "    return c\n",
    "    \n",
    "if __name__ == '__main__': main()\n",
    "    "
   ]
  },
  {
   "cell_type": "markdown",
   "metadata": {},
   "source": [
    "## 7.2 Function \" immutable call by reference\"\n",
    "\n",
    "\n",
    "## 7.2 Example\n",
    "\n",
    "x is still five in the main after the function kitty is called (observe that in the kitty function it is equal to 3). This is known as \"call by reference\": What's being passed is a reference to the object, and you can change the object in the caller from the function.\n",
    "\n",
    "So this is important to understand: an integer is not mutable, so it cannot change, so when you assign a new value to an integer, you're actually assigning an entirely different object to the name. The original integer is not changed, the name simply refers to a new object. \n",
    "\n",
    "Passing a value to a function acts exactly the same way. A reference to the object is passed and acts exactly like an assignment. So mutable objects may be changed, and those changes will be reflected in the caller. Immutable objects may not be changed.\n",
    "\n",
    "To observe this see the ids, examine where they are the same objects with the same ids and becomes a different object\n"
   ]
  },
  {
   "cell_type": "code",
   "execution_count": null,
   "metadata": {},
   "outputs": [],
   "source": [
    "## 7.2 Example\n",
    "\n",
    "def main():\n",
    "    x=5\n",
    "    kitty(x)\n",
    "    print(f\"id(x) : {id(x)}\")\n",
    "    print (f\"in the main module x is {x}\")\n",
    "\n",
    "def kitty(a):\n",
    "    print(f\"id(a) : {id(a)}\")\n",
    "    a=3\n",
    "    print(f\"id(a) : {id(a)}\")\n",
    "    print (f\"in the kitty module a is {a}\")\n",
    "\n",
    "    \n",
    "if __name__ == '__main__': main()\n",
    "    \n"
   ]
  },
  {
   "cell_type": "markdown",
   "metadata": {},
   "source": [
    "## 7.3 Function \" mutable call by reference\"\n",
    "\n",
    "## 7.3 Example\n",
    "\n",
    "when we assign a mutable, we're actually assigning a reference to the mutable, and the side effect that when we change an element of that list in one place, it gets changed in both places because it's really just one object, and functions work exactly the same way."
   ]
  },
  {
   "cell_type": "code",
   "execution_count": null,
   "metadata": {},
   "outputs": [],
   "source": [
    "## 7.3 Example\n",
    "\n",
    "def main():\n",
    "    x=[5]\n",
    "    y=x\n",
    "    y[0]=3\n",
    "   \n",
    "    print(f\"id(x) : {id(x)}\")\n",
    "    print(f\"id(x) : {id(y)}\")\n",
    "\n",
    "\n",
    "    print (f\"in the main module x is {x}\")\n",
    "    print (f\"in the main module x is {y}\")\n",
    "\n",
    "\n",
    "\n",
    "if __name__ == '__main__': main()\n",
    "    \n",
    "\n"
   ]
  },
  {
   "cell_type": "markdown",
   "metadata": {},
   "source": [
    "## 7.3 Example list is a mutable\n",
    "\n",
    "lets update the 7.2 Example as following and create a mutable x object, not immutable integer!"
   ]
  },
  {
   "cell_type": "code",
   "execution_count": null,
   "metadata": {},
   "outputs": [],
   "source": [
    "## 7.2 Example\n",
    "\n",
    "def main():\n",
    "    x=[5]\n",
    "    kitty(x)\n",
    "    print(f\"id(x) : {id(x)}\")\n",
    "    print (f\"in the main module x is {x}\")\n",
    "\n",
    "def kitty(a):\n",
    "    print(f\"id(a) : {id(a)}\")\n",
    "    a[0]=3\n",
    "    print(f\"id(a) : {id(a)}\")\n",
    "    print (f\"in the kitty module a is {a}\")\n",
    "\n",
    "    \n",
    "if __name__ == '__main__': main()\n",
    "    \n"
   ]
  },
  {
   "cell_type": "markdown",
   "metadata": {},
   "source": [
    "# 7.4 Argument List\n",
    "\n",
    "in the below example you'll notice down here, in our definition for our function, we have a variable name with an asterisk before it. This is the variable length argument list. \n",
    "\n",
    "And you'll notice that we can treat it like a sequence, it's actually a tuple.\n",
    "\n",
    "## 7.4 Example argument List"
   ]
  },
  {
   "cell_type": "code",
   "execution_count": null,
   "metadata": {},
   "outputs": [],
   "source": [
    "## 7.4.1 Example argument List\n",
    "def main():\n",
    "    kitty(\"eyes\",\"ears\",\"tail\")\n",
    "\n",
    "def kitty(*args):\n",
    "    print(\"type(args) is \",type(args))\n",
    "    if len(args):\n",
    "        for s in args:\n",
    "            print(s)\n",
    "    else:\n",
    "        print(\"where is the cat!\")\n",
    "if __name__ == \"__main__\": main()"
   ]
  },
  {
   "cell_type": "code",
   "execution_count": null,
   "metadata": {},
   "outputs": [],
   "source": [
    "## 7.4.2 Example is the same with 7.4.1 Example \n",
    "def main():\n",
    "    x = (\"eyes\",\"ears\",\"tail\")\n",
    "    kitty(*x)\n",
    "\n",
    "def kitty(*args):\n",
    "    print(\"type(args) is \",type(args))\n",
    "    if len(args):\n",
    "        for s in args:\n",
    "            print(s)\n",
    "    else:\n",
    "        print(\"where is the cat!\")\n",
    "if __name__ == \"__main__\": main()"
   ]
  },
  {
   "cell_type": "markdown",
   "metadata": {},
   "source": [
    "# 7.5 Key Argument \"dictionary\"\n",
    "\n",
    "Key word arguments are like list arguments that are dictionaries instead of tuples. \n",
    "This allows your function to have a variable number of named arguments.\n",
    "As demonstrated in the example below the function argument has two asterisks in front of it instead of one, as we had for the list arguments. And it's named kwargs, which stands for key word arguments.\n",
    "\n",
    "This is the same syntax as we used for dictionary. And, in fact, this is a dictionary. If I wanted to, I could say, x equals and dictionary with those arguments, and then I can pass it x.\n",
    "\n",
    "## 7.5 Example argument List"
   ]
  },
  {
   "cell_type": "code",
   "execution_count": null,
   "metadata": {},
   "outputs": [],
   "source": [
    "# 7.5.1 Example argument List\n",
    "\n",
    "def main ():\n",
    "    \n",
    "    kitty(first=\"eyes\",second=\"ears\",thirds=\"tail\")\n",
    "\n",
    "def kitty(**kwargs):\n",
    "    for f in kwargs:\n",
    "        print(f)\n",
    "\n",
    "if __name__ == \"__main__\": main()"
   ]
  },
  {
   "cell_type": "code",
   "execution_count": null,
   "metadata": {},
   "outputs": [],
   "source": [
    "# 7.5.2 Example: This is same as 7.5.1 Example argument List\n",
    "\n",
    "def main ():\n",
    "    x=dict(first=\"eyes\",second=\"ears\",thirds=\"tail\")\n",
    "    kitty(**x)\n",
    "\n",
    "def kitty(**kwargs):\n",
    "    for f in kwargs:\n",
    "        print(f)\n",
    "\n",
    "if __name__ == \"__main__\": main()"
   ]
  },
  {
   "cell_type": "markdown",
   "metadata": {},
   "source": [
    "# 7.6 Return value\n",
    "\n",
    "n Python, there is no distinction between a function and a procedure. \n",
    "All functions return a value. Notice that the type is the none type, and the return value is none.\n",
    "\n",
    "## 7.6 Example  return value"
   ]
  },
  {
   "cell_type": "code",
   "execution_count": null,
   "metadata": {},
   "outputs": [],
   "source": [
    "# 7.6 Example: This is same as 7.5.1 Example argument List\n",
    "\n",
    "def main ():\n",
    "    x=dict(first=\"eyes\",second=\"ears\",thirds=\"tail\")\n",
    "    r= kitty(**x)\n",
    "    print(\"Since in kitty there is no return value it returns = \",r)\n",
    "    ret=dog()\n",
    "    print(\"dog returns = \",ret)\n",
    "\n",
    "\n",
    "def kitty(**kwargs):\n",
    "    for f in kwargs:\n",
    "        print(f)\n",
    "def dog():\n",
    "    return 10\n",
    "\n",
    "\n",
    "if __name__ == \"__main__\": main()"
   ]
  },
  {
   "cell_type": "markdown",
   "metadata": {},
   "source": [
    "## 7.7 A Case study : Write your own Range function\n",
    "\n",
    "\n",
    "### 7.7 Example A Case study"
   ]
  },
  {
   "cell_type": "code",
   "execution_count": null,
   "metadata": {},
   "outputs": [],
   "source": [
    "def main ():\n",
    "    my_range_function(10,50,5)\n",
    "\n",
    "def my_range_function(*args):\n",
    "    start = 0\n",
    "    step = 1\n",
    " \n",
    "    if len(args)<1: raise TypeError(f\"expected at least 1 input argument\")\n",
    "    if len(args) == 1:\n",
    "        stop = args[0]\n",
    "    elif len(args) == 2:\n",
    "        start = args[0]\n",
    "        stop = args[1]\n",
    "    elif len (args) == 3:\n",
    "        start = args[0]\n",
    "        stop = args[1]\n",
    "        step = args[2]\n",
    "    else:\n",
    "        raise TypeError(f\"the number of arguments can not be more than 3\")\n",
    "    \n",
    "    i = start \n",
    "    while i <= stop:\n",
    "        print (i)\n",
    "        i=i+step\n",
    "\n",
    "if __name__ == \"__main__\" : main()"
   ]
  },
  {
   "cell_type": "markdown",
   "metadata": {},
   "source": [
    "## 7.8 Creating a wrapper function\n",
    "\n",
    "\n",
    "### 7.8 Example a wrapper function"
   ]
  },
  {
   "cell_type": "code",
   "execution_count": null,
   "metadata": {},
   "outputs": [],
   "source": [
    "def f1():\n",
    "    def f2():\n",
    "        print(f\"this is f2\")\n",
    "    return f2\n",
    "\n",
    "x =f1()\n",
    "x()"
   ]
  },
  {
   "cell_type": "markdown",
   "metadata": {},
   "source": [
    "## 7.9 Decorator \n",
    "\n",
    "\n",
    "### 7.9 Example decorator"
   ]
  },
  {
   "cell_type": "code",
   "execution_count": null,
   "metadata": {},
   "outputs": [],
   "source": []
  }
 ],
 "metadata": {
  "kernelspec": {
   "display_name": "Python 3",
   "language": "python",
   "name": "python3"
  },
  "language_info": {
   "codemirror_mode": {
    "name": "ipython",
    "version": 3
   },
   "file_extension": ".py",
   "mimetype": "text/x-python",
   "name": "python",
   "nbconvert_exporter": "python",
   "pygments_lexer": "ipython3",
   "version": "3.6.4"
  }
 },
 "nbformat": 4,
 "nbformat_minor": 2
}
